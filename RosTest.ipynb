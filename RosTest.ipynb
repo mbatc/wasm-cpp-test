{
  "metadata": {
    "kernelspec": {
      "name": "xeus-python",
      "display_name": "Python (XPython)",
      "language": "python"
    },
    "language_info": {
      "file_extension": ".py",
      "mimetype": "text/x-python",
      "name": "python",
      "version": "3.11.3"
    }
  },
  "nbformat_minor": 4,
  "nbformat": 4,
  "cells": [
    {
      "cell_type": "markdown",
      "source": "# Import pacakges",
      "metadata": {}
    },
    {
      "cell_type": "code",
      "source": "import pyjs",
      "metadata": {
        "trusted": true
      },
      "outputs": [],
      "execution_count": 1
    },
    {
      "cell_type": "code",
      "source": "\npyjs.js.Function(\"\"\"\n  globalThis[\"_window\"] = this || self || window;\n  const url = globalThis.origin + \"/wasm-cpp-test/roslib.js\"\n  console.log(url);\n  importScripts(url);\n\"\"\")()\n",
      "metadata": {
        "trusted": true
      },
      "outputs": [],
      "execution_count": 2
    },
    {
      "cell_type": "code",
      "source": "pyjs.js.Function(\"\"\"\n  const url = globalThis.origin + \"/wasm-cpp-test/pre.js\"\n  console.log(url);\n  importScripts(url);\n\"\"\")()\n",
      "metadata": {
        "trusted": true
      },
      "outputs": [],
      "execution_count": 3
    },
    {
      "cell_type": "code",
      "source": "import os\nos.environ[\"ROS_DOMAIN_ID\"]=\"0\"\n\nimport asyncio\nimport pyjs\nimport rclpy\n\nfrom rclpy.utilities import get_default_context\nfrom rclpy.signals import SignalHandlerOptions\nfrom rclpy.signals import install_signal_handlers\nfrom rclpy.node import Node\nfrom std_msgs.msg import String",
      "metadata": {
        "trusted": true
      },
      "outputs": [],
      "execution_count": 4
    },
    {
      "cell_type": "markdown",
      "source": "# Create a Subscriber class",
      "metadata": {}
    },
    {
      "cell_type": "code",
      "source": "class MinimalSubscriber(Node):\n  def __init__(self, name, topics):\n    super().__init__(name)\n    self._subs = [self.create_subscription(\n      String,\n      topic,\n      self.listener_callback,\n      10) for topic in topics]\n    self._subs  # prevent unused variable warning\n    self._name = name\n\n  def listener_callback(self, msg):\n    print(self._name + \" heard: \\\"\" + msg.data + \"\\\"\")\n",
      "metadata": {
        "trusted": true
      },
      "outputs": [],
      "execution_count": 5
    },
    {
      "cell_type": "markdown",
      "source": "# Async spin functions",
      "metadata": {}
    },
    {
      "cell_type": "code",
      "source": "running = True\n\nasync def spin_subscriber(sub):\n  while running:\n    rclpy.spin_once(sub, timeout_sec=0)\n    await asyncio.sleep(0.01)\n\nasync def publish_messages(pub, text):\n  count = 0\n  while running:\n    msg = String()\n    msg.data = text + str(count)\n    count = count + 1\n    pub.publish(msg)\n    await asyncio.sleep(1)\n",
      "metadata": {
        "trusted": true
      },
      "outputs": [],
      "execution_count": 6
    },
    {
      "cell_type": "markdown",
      "source": "# Create ROS context",
      "metadata": {}
    },
    {
      "cell_type": "code",
      "source": "context = get_default_context()\ncontext.init(args=None, domain_id=None)\ncontext.ok()",
      "metadata": {
        "trusted": true
      },
      "outputs": [
        {
          "execution_count": 7,
          "output_type": "execute_result",
          "data": {
            "text/plain": "True"
          },
          "metadata": {}
        }
      ],
      "execution_count": 7
    },
    {
      "cell_type": "markdown",
      "source": "# Create publishers and subscribers",
      "metadata": {}
    },
    {
      "cell_type": "code",
      "source": "node = rclpy.create_node('minimal_publisher', context=context, use_global_arguments=False, start_parameter_services=True)\n\npub_a = node.create_publisher(String, 'topic_a', 10)\npub_b = node.create_publisher(String, 'topic_b', 10)\nsub_1 = MinimalSubscriber('minimal_subscriber_test', ['topic_a'])\nsub_2 = MinimalSubscriber('minimal_subscriber_test_b', ['topic_b'])",
      "metadata": {
        "trusted": true
      },
      "outputs": [],
      "execution_count": 8
    },
    {
      "cell_type": "markdown",
      "source": "# Start publisher and subscriber tasks",
      "metadata": {}
    },
    {
      "cell_type": "code",
      "source": "running = True\nasync def stopper():\n    print(\"Running nodes for 60 seconds\")\n    global running\n    await asyncio.sleep(60)\n    print(\"Stopping all tasks\")\n    running = False\n    \nasyncio.create_task(stopper())\nasyncio.create_task(publish_messages(pub_a, 'Hello From A '))\nasyncio.create_task(publish_messages(pub_b, 'Hello From B '))\nasyncio.create_task(spin_subscriber(sub_1))\nasyncio.create_task(spin_subscriber(sub_2))\n",
      "metadata": {
        "trusted": true
      },
      "outputs": [
        {
          "execution_count": 10,
          "output_type": "execute_result",
          "data": {
            "text/plain": "<Task pending name='Task-6' coro=<spin_subscriber() running at /tmp/xpython_42/2174627779.py:3>>"
          },
          "metadata": {}
        },
        {
          "name": "stdout",
          "text": "Running nodes for 60 seconds\nStopping all tasks\nStopping all tasks\n",
          "output_type": "stream"
        }
      ],
      "execution_count": 10
    },
    {
      "cell_type": "code",
      "source": "",
      "metadata": {
        "trusted": true
      },
      "outputs": [],
      "execution_count": null
    }
  ]
}
